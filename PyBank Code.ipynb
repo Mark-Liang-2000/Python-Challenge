{
 "cells": [
  {
   "cell_type": "code",
   "execution_count": 65,
   "metadata": {},
   "outputs": [
    {
     "name": "stdout",
     "output_type": "stream",
     "text": [
      "Total Months: 86\n",
      "Total: $38382578\n",
      "Average Change is: $-2315.12\n",
      "Greatest Increase in profits: Feb-2012 ($1926159)\n",
      "Greatest Decrease in profits: Sep-2013 ($-2196167)\n"
     ]
    }
   ],
   "source": [
    "import os\n",
    "import csv\n",
    "\n",
    "file = os.path.join(\"budget_data.csv\")\n",
    "result = os.path.join(\"budget_result.txt\")\n",
    "\n",
    "totalMonths = 0\n",
    "totalChange = 0\n",
    "monthArr = []\n",
    "totalChangeArr = []\n",
    "largestGain = 0\n",
    "largestLoss = 9999999999999999999999999999999999999999999999999999999999999999999999\n",
    "avgChange = 0\n",
    "\n",
    "with open(file) as budget_data:\n",
    "    reader = csv.reader(budget_data)\n",
    "    \n",
    "    header = next(reader)\n",
    "    #print(header)\n",
    "    \n",
    "    currentMonth = next(reader)\n",
    "    #print(currentMonth)\n",
    "    totalMonths = totalMonths + 1\n",
    "    totalChange = totalChange + int(currentMonth[1])\n",
    "    #print(totalChange)\n",
    "    prevChange = int(currentMonth[1])\n",
    "    \n",
    "    for row in reader:\n",
    "        totalMonths = totalMonths + 1\n",
    "        totalChange = totalChange + int(row[1])\n",
    "        #print(totalChange)\n",
    "        \n",
    "        monthlyChange = int(row[1]) - prevChange\n",
    "        prevChange = int(row[1])\n",
    "        totalChangeArr.append(monthlyChange)\n",
    "        #print(totalChangeArr)\n",
    "       \n",
    "        monthArr.append(row[0])\n",
    "        #print(monthArr)\n",
    "    \n",
    "    largestGainMonth = \"\"\n",
    "    for i in range(len(totalChangeArr)):\n",
    "        if (totalChangeArr[i] > largestGain):\n",
    "            largestGain = totalChangeArr[i]\n",
    "            largestGainMonth = monthArr[i]\n",
    "    \n",
    "    largestLossMoth = \"\"\n",
    "    for i in range(len(totalChangeArr)):\n",
    "        if (totalChangeArr[i] < largestLoss):\n",
    "            largestLoss = totalChangeArr[i]\n",
    "            largestLossMonth = monthArr[i]\n",
    "    \n",
    "with open(result, \"w\") as txt_file:\n",
    "    txt_file.write(\"Total Months: \" + str(totalMonths) +\"\\n\")\n",
    "    txt_file.write(\"Total: $\" + str(totalChange) +\"\\n\")\n",
    "    txt_file.write(\"Average Change is: $\" + str(round(sum(totalChangeArr)/len(totalChangeArr), 2))+\"\\n\")\n",
    "    txt_file.write(\"Greatest Increase in profits: \" + str(largestGainMonth) + \" ($\" + str(largestGain) + \")\"+\"\\n\")\n",
    "    txt_file.write(\"Greatest Decrease in profits: \" + str(largestLossMonth) + \" ($\" + str(largestLoss) + \")\")"
   ]
  },
  {
   "cell_type": "code",
   "execution_count": null,
   "metadata": {},
   "outputs": [],
   "source": []
  },
  {
   "cell_type": "code",
   "execution_count": null,
   "metadata": {},
   "outputs": [],
   "source": []
  },
  {
   "cell_type": "code",
   "execution_count": null,
   "metadata": {},
   "outputs": [],
   "source": []
  },
  {
   "cell_type": "code",
   "execution_count": null,
   "metadata": {},
   "outputs": [],
   "source": []
  },
  {
   "cell_type": "code",
   "execution_count": null,
   "metadata": {},
   "outputs": [],
   "source": []
  },
  {
   "cell_type": "code",
   "execution_count": null,
   "metadata": {},
   "outputs": [],
   "source": []
  }
 ],
 "metadata": {
  "kernelspec": {
   "display_name": "Python 3",
   "language": "python",
   "name": "python3"
  },
  "language_info": {
   "codemirror_mode": {
    "name": "ipython",
    "version": 3
   },
   "file_extension": ".py",
   "mimetype": "text/x-python",
   "name": "python",
   "nbconvert_exporter": "python",
   "pygments_lexer": "ipython3",
   "version": "3.7.6"
  }
 },
 "nbformat": 4,
 "nbformat_minor": 4
}
