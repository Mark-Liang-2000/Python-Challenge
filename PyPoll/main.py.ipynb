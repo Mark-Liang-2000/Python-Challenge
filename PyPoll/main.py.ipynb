{
 "cells": [
  {
   "cell_type": "code",
   "execution_count": 22,
   "metadata": {},
   "outputs": [
    {
     "name": "stdout",
     "output_type": "stream",
     "text": [
      "['Voter ID', 'County', 'Candidate']\n",
      "Total Votes: 3521001\n"
     ]
    }
   ],
   "source": [
    "import os\n",
    "import csv\n",
    "\n",
    "file = os.path.join(\"election_data.csv\")\n",
    "result = os.path.join(\"election_result.txt\")\n",
    "\n",
    "totalVotes = 0\n",
    "\n",
    "candidateChoices = []\n",
    "candidateVote = {}\n",
    "\n",
    "winCandidate = \" \"\n",
    "winAmount = 0\n",
    "\n",
    "with open(file) as election_data:\n",
    "    reader = csv.reader(election_data)\n",
    "    \n",
    "    header = next(reader)\n",
    "    print(header)\n",
    "    \n",
    "    for row in reader:\n",
    "        \n",
    "        #print(\". \", end = \"\")\n",
    "        \n",
    "        totalVotes = totalVotes + 1\n",
    "        candidateName = row[2]\n",
    "        \n",
    "        if candidateName not in candidateChoices:\n",
    "            candidateChoices.append(candidateName)\n",
    "            candidateVote[candidateName] = 0\n",
    "        \n",
    "        candidateVote[candidateName] = candidateVote[candidateName] + 1\n",
    "\n",
    "print(\"Total Votes: \" + str(totalVotes))\n",
    "\n",
    "\n",
    "with open(result, \"w\") as txt_file:\n",
    "    txt_file.write(\"Total Votes: \" + str(totalVotes) + \"\\n\")\n",
    "    for candidate in candidateVote:\n",
    "        numVotes = candidateVote.get(candidate)\n",
    "        percVotes = float(numVotes)/float(totalVotes) * 100\n",
    "        txt_file.write(candidate + \": \" + str(round(percVotes, 1)) + \"%\" + \"(\" + str(candidateVote.get(candidate)) + \")\\n\")\n",
    "        if (numVotes > winAmount):\n",
    "            winAmount = numVotes\n",
    "            winCandidate = candidate\n",
    "\n",
    "    txt_file.write(\"Winnter: \" + winCandidate)\n",
    "        "
   ]
  },
  {
   "cell_type": "code",
   "execution_count": null,
   "metadata": {},
   "outputs": [],
   "source": []
  },
  {
   "cell_type": "code",
   "execution_count": null,
   "metadata": {},
   "outputs": [],
   "source": []
  },
  {
   "cell_type": "code",
   "execution_count": null,
   "metadata": {},
   "outputs": [],
   "source": []
  },
  {
   "cell_type": "code",
   "execution_count": null,
   "metadata": {},
   "outputs": [],
   "source": []
  }
 ],
 "metadata": {
  "kernelspec": {
   "display_name": "Python 3",
   "language": "python",
   "name": "python3"
  },
  "language_info": {
   "codemirror_mode": {
    "name": "ipython",
    "version": 3
   },
   "file_extension": ".py",
   "mimetype": "text/x-python",
   "name": "python",
   "nbconvert_exporter": "python",
   "pygments_lexer": "ipython3",
   "version": "3.7.6"
  }
 },
 "nbformat": 4,
 "nbformat_minor": 4
}
